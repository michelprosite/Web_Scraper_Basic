{
 "cells": [
  {
   "attachments": {},
   "cell_type": "markdown",
   "metadata": {},
   "source": [
    "# Introdução ao Web Scraping com Python\n",
    "\n",
    "## Michel Souza Santana\n",
    "\n",
    "* Data de início: 09 de maio de 2023\n",
    "\n",
    "* Duração: 60 horas\n",
    "\n",
    "> Descrição: \n",
    "\n",
    "Este curso irá ensinar a você os fundamentos do Web Scraping utilizando a linguagem de programação Python. Com o aumento da quantidade de dados disponíveis na internet, a habilidade de coletar e analisar informações da web é cada vez mais valorizada no mercado de trabalho. Neste curso, você irá aprender desde os conceitos básicos de HTML e CSS até a utilização de bibliotecas como requests, Beautiful Soup e Selenium para coletar e analisar dados de páginas web. Além disso, também iremos abordar boas práticas de Web Scraping ético e o armazenamento de dados. Ao final do curso, você estará pronto para desenvolver seu próprio Web Scraper e aplicar seus conhecimentos em projetos reais.\n",
    "\n",
    "> Autor: \n",
    "\n",
    "Michel Souza Santana é formado em Análise e Desenvolvimento de Sistemas e atua na área de Engenharia de Dados há mais de 5 anos, com experiência em coleta e análise de dados de diferentes fontes. Além disso, é entusiasta da tecnologia e das possibilidades que a análise de dados pode trazer para as empresas e para a sociedade em geral.\n",
    "\n",
    "Este curso é ideal para estudantes, analistas de dados, desenvolvedores e qualquer pessoa que queira aprender a coletar e analisar informações da web de forma automatizada. Não é necessário conhecimento prévio em Web Scraping ou Python, mas é recomendado que você tenha um conhecimento básico em programação."
   ]
  },
  {
   "attachments": {},
   "cell_type": "markdown",
   "metadata": {},
   "source": [
    "*****"
   ]
  },
  {
   "attachments": {},
   "cell_type": "markdown",
   "metadata": {},
   "source": [
    "## Índice:\n",
    "\n",
    "* 1 - Introdução ao Web Scraping\n",
    "    * 1.1 O que é Web Scraping?\n",
    "    * 1.2 Por que é importante?\n",
    "    * 1.3 Ferramentas para Web Scraping\n",
    ">...   \n",
    "\n",
    "* 2 - HTML básico e CSS\n",
    "    * 2.1 Estrutura de uma página HTML\n",
    "    * 2.2 Tags HTML básicas\n",
    "    * 2.3 CSS para estilização de páginas\n",
    ">...\n",
    "\n",
    "* 3 - Requisições HTTP e Biblioteca requests\n",
    "    * 3.1 O que é uma requisição HTTP?\n",
    "    * 3.2 Biblioteca requests em Python\n",
    "    * 3.3 Fazendo uma requisição HTTP em Python\n",
    "    * 3.4 Tratando erros com try/except\n",
    ">...\n",
    "\n",
    "* 4 - Analisando HTML com Beautiful Soup\n",
    "    * 4.1 O que é Beautiful Soup?\n",
    "    * 4.2 Analisando HTML com Beautiful Soup\n",
    "    * 4.3 Buscando elementos HTML específicos\n",
    "    * 4.4 Tratando erros com try/except\n",
    ">...\n",
    "\n",
    "* 5 - Selenium para Web Scraping Dinâmico\n",
    "    * 5.1 O que é Web Scraping dinâmico?\n",
    "    * 5.2 Como o Selenium pode ajudar?\n",
    "    * 5.3 Automatizando tarefas com o Selenium\n",
    "    * 5.4 Tratando erros com try/except\n",
    ">...\n",
    "\n",
    "* 6 - Armazenamento de dados\n",
    "    * 6.1 Formatos de dados comuns\n",
    "    * 6.2 Armazenando dados em um arquivo CSV\n",
    "    * 6.3 Armazenando dados em um banco de dados\n",
    "    * 6.4 Tratando erros com try/except\n",
    ">...\n",
    "\n",
    "* 7 - Introdução ao Web Scraping Ético\n",
    "    * 7.1 O que é Web Scraping ético?\n",
    "    * 7.2 Legislação sobre Web Scraping\n",
    "    * 7.3 Boas práticas de Web Scraping ético\n",
    ">...\n",
    "\n",
    "* 8 - Projeto Final\n",
    "    * 8.1 Desenvolvendo um Web Scraper completo\n",
    "    * 8.2 Implementando o armazenamento de dados\n",
    "    * 8.3 Tratando erros com try/except\n",
    "    * 8.4 Boas práticas de Web Scraping ético\n",
    ">..."
   ]
  },
  {
   "attachments": {},
   "cell_type": "markdown",
   "metadata": {},
   "source": []
  }
 ],
 "metadata": {
  "language_info": {
   "name": "python"
  },
  "orig_nbformat": 4
 },
 "nbformat": 4,
 "nbformat_minor": 2
}
